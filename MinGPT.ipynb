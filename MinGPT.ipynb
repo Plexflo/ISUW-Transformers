{
 "cells": [
  {
   "attachments": {},
   "cell_type": "markdown",
   "metadata": {},
   "source": [
    "## **Importing libraries**"
   ]
  },
  {
   "cell_type": "code",
   "execution_count": 35,
   "metadata": {},
   "outputs": [],
   "source": [
    "# Importing libraries\n",
    "import torch\n",
    "import torch.nn as nn\n",
    "from torch.nn import functional as F"
   ]
  },
  {
   "attachments": {},
   "cell_type": "markdown",
   "metadata": {},
   "source": [
    "## **Defining Hyperparametes**"
   ]
  },
  {
   "cell_type": "code",
   "execution_count": 36,
   "metadata": {},
   "outputs": [
    {
     "data": {
      "text/plain": [
       "<torch._C.Generator at 0x10b8bccf0>"
      ]
     },
     "execution_count": 36,
     "metadata": {},
     "output_type": "execute_result"
    }
   ],
   "source": [
    "# Defining the Hyper-parameters\n",
    "\n",
    "batch_size = 32 \n",
    "\n",
    "# Context length\n",
    "block_size = 8 \n",
    "max_iters = 100000\n",
    "eval_interval = 10000\n",
    "learning_rate = 1e-2\n",
    "device = 'cuda' if torch.cuda.is_available() else 'cpu'\n",
    "eval_iters = 200\n",
    "\n",
    "torch.manual_seed(1337)"
   ]
  },
  {
   "attachments": {},
   "cell_type": "markdown",
   "metadata": {},
   "source": [
    "## **Exploring the dataset**"
   ]
  },
  {
   "cell_type": "code",
   "execution_count": 37,
   "metadata": {},
   "outputs": [],
   "source": [
    "# Reading the text file\n",
    "with open('shakespeare.txt', 'r', encoding='utf-8') as f:\n",
    "    text = f.read()\n",
    "\n",
    "# Total number of characters\n",
    "chars = sorted(list(set(text)))\n",
    "vocab_size = len(chars)\n",
    "\n",
    "# Mapping from characters to indices and vice versa\n",
    "stoi = { ch:i for i,ch in enumerate(chars) }\n",
    "itos = { i:ch for i,ch in enumerate(chars) }\n",
    "\n",
    "# Encoding lambda function - String to list of integers\n",
    "encode = lambda s: [stoi[c] for c in s]\n",
    "\n",
    "# Decoding lambda function - List of integers to string\n",
    "decode = lambda l: ''.join([itos[i] for i in l]) "
   ]
  },
  {
   "cell_type": "code",
   "execution_count": 38,
   "metadata": {},
   "outputs": [
    {
     "name": "stdout",
     "output_type": "stream",
     "text": [
      "All chars: \n",
      " !$&',-.3:;?ABCDEFGHIJKLMNOPQRSTUVWXYZabcdefghijklmnopqrstuvwxyz\n",
      "Vocab size: 65\n"
     ]
    }
   ],
   "source": [
    "print('All chars:', \"\".join(chars))\n",
    "print('Vocab size:', vocab_size)"
   ]
  },
  {
   "cell_type": "code",
   "execution_count": 39,
   "metadata": {},
   "outputs": [
    {
     "name": "stdout",
     "output_type": "stream",
     "text": [
      "Encoded text: [20, 47, 6, 1, 21, 5, 51, 1, 54, 56, 39, 52, 39, 60]\n",
      "Decoded text: Hi, I'm pranav\n"
     ]
    }
   ],
   "source": [
    "# Try it out\n",
    "print('Encoded text:', encode(\"Hi, I'm pranav\"))\n",
    "print('Decoded text:', decode(encode(\"Hi, I'm pranav\")))"
   ]
  },
  {
   "cell_type": "code",
   "execution_count": 40,
   "metadata": {},
   "outputs": [
    {
     "name": "stdout",
     "output_type": "stream",
     "text": [
      "Data shape: torch.Size([1115393])\n"
     ]
    }
   ],
   "source": [
    "# Create torch tensor\n",
    "data = torch.tensor(encode(text), dtype=torch.long)\n",
    "print('Data shape:', data.shape)\n",
    "\n",
    "# Train size\n",
    "train_size = int(0.8 * len(data))\n",
    "\n",
    "# Train and test split\n",
    "train_data = data[:train_size]\n",
    "val_data = data[train_size:]"
   ]
  },
  {
   "attachments": {},
   "cell_type": "markdown",
   "metadata": {},
   "source": [
    "## **Example sequence generation**"
   ]
  },
  {
   "cell_type": "code",
   "execution_count": 41,
   "metadata": {},
   "outputs": [
    {
     "name": "stdout",
     "output_type": "stream",
     "text": [
      "tensor([18, 47, 56, 57, 58,  1, 15, 47, 58, 47, 64, 43, 52, 10,  0, 14, 43])\n",
      "tensor([18]) -> 47\n",
      "tensor([18, 47]) -> 56\n",
      "tensor([18, 47, 56]) -> 57\n",
      "tensor([18, 47, 56, 57]) -> 58\n",
      "tensor([18, 47, 56, 57, 58]) -> 1\n",
      "tensor([18, 47, 56, 57, 58,  1]) -> 15\n",
      "tensor([18, 47, 56, 57, 58,  1, 15]) -> 47\n",
      "tensor([18, 47, 56, 57, 58,  1, 15, 47]) -> 58\n",
      "tensor([18, 47, 56, 57, 58,  1, 15, 47, 58]) -> 47\n",
      "tensor([18, 47, 56, 57, 58,  1, 15, 47, 58, 47]) -> 64\n",
      "tensor([18, 47, 56, 57, 58,  1, 15, 47, 58, 47, 64]) -> 43\n",
      "tensor([18, 47, 56, 57, 58,  1, 15, 47, 58, 47, 64, 43]) -> 52\n",
      "tensor([18, 47, 56, 57, 58,  1, 15, 47, 58, 47, 64, 43, 52]) -> 10\n",
      "tensor([18, 47, 56, 57, 58,  1, 15, 47, 58, 47, 64, 43, 52, 10]) -> 0\n",
      "tensor([18, 47, 56, 57, 58,  1, 15, 47, 58, 47, 64, 43, 52, 10,  0]) -> 14\n",
      "tensor([18, 47, 56, 57, 58,  1, 15, 47, 58, 47, 64, 43, 52, 10,  0, 14]) -> 43\n"
     ]
    }
   ],
   "source": [
    "# Sampling a block/sequence\n",
    "seq_length = 16\n",
    "print(train_data[:seq_length+1])\n",
    "\n",
    "# Data loading into x and y\n",
    "x = train_data[:seq_length]\n",
    "y = train_data[1:seq_length+1]\n",
    "\n",
    "# Auto-regressively generating the next item\n",
    "for t in range(seq_length):\n",
    "    cont = x[:t+1]\n",
    "    target = y[t]\n",
    "    print(f'{cont} -> {target}')"
   ]
  },
  {
   "attachments": {},
   "cell_type": "markdown",
   "metadata": {},
   "source": [
    "## **Batching**"
   ]
  },
  {
   "cell_type": "code",
   "execution_count": 42,
   "metadata": {},
   "outputs": [],
   "source": [
    "def get_batch(split):\n",
    "    \n",
    "    # Select the data\n",
    "    data = train_data if split == 'train' else val_data\n",
    "\n",
    "    # Randomly select a starting index\n",
    "    ix = torch.randint(len(data) - block_size, (batch_size,))\n",
    "\n",
    "    # Create the batch\n",
    "    x = torch.stack([data[i:i+block_size] for i in ix])\n",
    "    y = torch.stack([data[i+1:i+block_size+1] for i in ix])\n",
    "\n",
    "    # Move to device\n",
    "    x, y = x.to(device), y.to(device)\n",
    "    return x, y"
   ]
  },
  {
   "cell_type": "code",
   "execution_count": 43,
   "metadata": {},
   "outputs": [
    {
     "name": "stdout",
     "output_type": "stream",
     "text": [
      "torch.Size([32, 8]) torch.Size([32, 8])\n",
      "tensor([[45, 46, 39, 52,  6,  1, 19, 56],\n",
      "        [ 0, 51, 53, 56, 43,  1, 47, 52],\n",
      "        [21, 36, 17, 26, 17, 31, 10,  0],\n",
      "        [52, 53, 61,  1, 61, 47, 50, 50],\n",
      "        [58, 46, 39, 58,  1, 57, 43, 50],\n",
      "        [45,  1, 57, 53, 51, 43,  1, 58],\n",
      "        [58, 57,  0, 18, 56, 53, 51,  1],\n",
      "        [ 8,  0,  0, 26, 59, 56, 57, 43],\n",
      "        [57, 57,  1, 44, 43, 39, 56, 44],\n",
      "        [51, 59, 58, 59, 39, 50, 50, 63],\n",
      "        [47, 52, 45,  7, 61, 46, 47, 50],\n",
      "        [45, 39, 47, 52,  1, 21,  1, 51],\n",
      "        [51,  0, 21, 57,  1, 41, 56, 43],\n",
      "        [52, 53, 58,  1, 51, 39, 49, 43],\n",
      "        [49,  1, 39, 45, 39, 47, 52,  6],\n",
      "        [53, 59, 50, 42,  0, 20, 39, 60],\n",
      "        [ 1, 39, 52, 42,  1, 46, 47, 57],\n",
      "        [40, 43, 39, 58, 47, 52, 45,  1],\n",
      "        [58, 53,  1, 40, 56, 43, 39, 49],\n",
      "        [39, 47, 52, 57, 58,  1, 58, 46],\n",
      "        [60, 43,  1, 42, 43, 57, 43, 56],\n",
      "        [39, 51, 43, 12,  0,  0, 28, 27],\n",
      "        [47, 50, 50,  1, 58, 46, 47, 57],\n",
      "        [50,  1, 39, 50, 50,  1, 41, 53],\n",
      "        [51,  1, 46, 47, 51,  0, 16, 43],\n",
      "        [39, 56, 52,  1, 58, 53,  1, 40],\n",
      "        [43, 56, 47, 52, 45, 11,  1, 40],\n",
      "        [59, 50, 42,  6,  0, 39, 57,  1],\n",
      "        [58, 63,  7,  7,  0, 31, 53,  1],\n",
      "        [17, 31, 32, 17, 30, 10,  0, 14],\n",
      "        [57, 39, 52, 42,  1, 54, 53, 59],\n",
      "        [47, 42, 43,  0, 32, 46, 43, 63]])\n",
      "tensor([[46, 39, 52,  6,  1, 19, 56, 43],\n",
      "        [51, 53, 56, 43,  1, 47, 52,  1],\n",
      "        [36, 17, 26, 17, 31, 10,  0, 31],\n",
      "        [53, 61,  1, 61, 47, 50, 50,  1],\n",
      "        [46, 39, 58,  1, 57, 43, 50, 42],\n",
      "        [ 1, 57, 53, 51, 43,  1, 58, 53],\n",
      "        [57,  0, 18, 56, 53, 51,  1, 58],\n",
      "        [ 0,  0, 26, 59, 56, 57, 43, 10],\n",
      "        [57,  1, 44, 43, 39, 56, 44, 59],\n",
      "        [59, 58, 59, 39, 50, 50, 63,  1],\n",
      "        [52, 45,  7, 61, 46, 47, 50, 43],\n",
      "        [39, 47, 52,  1, 21,  1, 51, 43],\n",
      "        [ 0, 21, 57,  1, 41, 56, 43, 43],\n",
      "        [53, 58,  1, 51, 39, 49, 43,  1],\n",
      "        [ 1, 39, 45, 39, 47, 52,  6,  0],\n",
      "        [59, 50, 42,  0, 20, 39, 60, 43],\n",
      "        [39, 52, 42,  1, 46, 47, 57,  1],\n",
      "        [43, 39, 58, 47, 52, 45,  1, 51],\n",
      "        [53,  1, 40, 56, 43, 39, 49,  1],\n",
      "        [47, 52, 57, 58,  1, 58, 46, 43],\n",
      "        [43,  1, 42, 43, 57, 43, 56, 60],\n",
      "        [51, 43, 12,  0,  0, 28, 27, 25],\n",
      "        [50, 50,  1, 58, 46, 47, 57,  1],\n",
      "        [ 1, 39, 50, 50,  1, 41, 53, 51],\n",
      "        [ 1, 46, 47, 51,  0, 16, 43, 39],\n",
      "        [56, 52,  1, 58, 53,  1, 40, 43],\n",
      "        [56, 47, 52, 45, 11,  1, 40, 43],\n",
      "        [50, 42,  6,  0, 39, 57,  1, 47],\n",
      "        [63,  7,  7,  0, 31, 53,  1, 47],\n",
      "        [31, 32, 17, 30, 10,  0, 14, 59],\n",
      "        [39, 52, 42,  1, 54, 53, 59, 52],\n",
      "        [42, 43,  0, 32, 46, 43, 63,  1]])\n"
     ]
    }
   ],
   "source": [
    "# Try it out\n",
    "x, y = get_batch('train')\n",
    "\n",
    "# Print the shapes\n",
    "print(x.shape, y.shape)\n",
    "\n",
    "# Print the first sequence\n",
    "print(x)\n",
    "print(y)"
   ]
  },
  {
   "attachments": {},
   "cell_type": "markdown",
   "metadata": {},
   "source": [
    "## **Defining the Bi-gram model**"
   ]
  },
  {
   "cell_type": "code",
   "execution_count": 44,
   "metadata": {},
   "outputs": [
    {
     "name": "stdout",
     "output_type": "stream",
     "text": [
      "Number of parameters: 0.004225 M\n",
      "torch.Size([256, 65])\n",
      "tensor(4.8378, grad_fn=<NllLossBackward0>)\n",
      "\n",
      "JLg,3D&OM .3YCjfolRwqXaDyttW!GmaUT-IIvuZV?sYfjzUvTQ3RwL ?etyLeg.COHW\n",
      "Ri$ELkJMXpBEX;-G&Orl!bcH ;cq.z,\n"
     ]
    }
   ],
   "source": [
    "@torch.no_grad()\n",
    "def estimate_loss():\n",
    "\n",
    "    # Output dictionary\n",
    "    out = {}\n",
    "\n",
    "    # Set the model to evaluation mode\n",
    "    model.eval()\n",
    "\n",
    "    #Loop over train and val splits\n",
    "    for split in ['train', 'val']:\n",
    "\n",
    "        # Set the loss to zero\n",
    "        losses = torch.zeros(eval_iters)\n",
    "\n",
    "        # Loop over the iterations\n",
    "        for k in range(eval_iters):\n",
    "\n",
    "            # Get the batch\n",
    "            X, Y = get_batch(split)\n",
    "\n",
    "            # Get the logits and loss\n",
    "            logits, loss = model(X, Y)\n",
    "\n",
    "            # Store the loss\n",
    "            losses[k] = loss.item()\n",
    "\n",
    "        # Store the average loss    \n",
    "        out[split] = losses.mean()\n",
    "    \n",
    "    # Set the model back to training mode\n",
    "    model.train()\n",
    "    \n",
    "    return out\n",
    "\n",
    "class BiGramModel(nn.Module):\n",
    "\n",
    "    def __init__(self, vocab_size):\n",
    "        super().__init__()\n",
    "\n",
    "        # Create an embedding layer/table\n",
    "        self.embed = nn.Embedding(vocab_size, vocab_size)\n",
    "\n",
    "    def forward(self, x, targets=None):\n",
    "        \n",
    "        # x and targets are of shape (batch_size, seq_length)\n",
    "        logits = self.embed(x) # (batch_size, seq_length, vocab_size)\n",
    "        \n",
    "        if targets is None:\n",
    "            loss = None\n",
    "            \n",
    "        else:\n",
    "            # Reshape logits and targets\n",
    "            batch_size, seq_length, vocab_size = logits.shape\n",
    "            logits = logits.view(batch_size * seq_length, vocab_size)\n",
    "            targets = targets.view(-1) \n",
    "\n",
    "            # Calculate loss\n",
    "            loss = F.cross_entropy(logits, targets)\n",
    "\n",
    "        return logits, loss\n",
    "\n",
    "    def generate(self, idx, max_tokens):\n",
    "\n",
    "        # idx is of shape (batch_size, 1)\n",
    "            \n",
    "        # Generate text using the model\n",
    "        for _ in range(max_tokens):\n",
    "\n",
    "            # Get the logits and loss\n",
    "            logits, loss = self(idx)\n",
    "\n",
    "            # Get the last token\n",
    "            logits = logits[:, -1, :] # (batch_size, vocab_size)\n",
    "\n",
    "            # Get the probability distribution (softmax)\n",
    "            probs = F.softmax(logits, dim=1) # (batch_size, vocab_size)\n",
    "\n",
    "            # Sample from the distribution\n",
    "            idx_next = torch.multinomial(probs, 1) # (batch_size, 1)\n",
    "\n",
    "            # Append the sampled token to the input\n",
    "            idx = torch.cat((idx, idx_next), dim=1) # (batch_size, 2)\n",
    "\n",
    "        return idx\n",
    "    \n",
    "model = BiGramModel(vocab_size)\n",
    "logits, loss = model(x, y)\n",
    "\n",
    "print(f\"Number of parameters: {sum(p.numel() for p in model.parameters())/1e6} M\")\n",
    "\n",
    "print(logits.shape)\n",
    "print(loss)\n",
    "\n",
    "print(decode(model.generate(torch.zeros((1, 1), dtype=torch.long), max_tokens=100)[0].tolist()))"
   ]
  },
  {
   "attachments": {},
   "cell_type": "markdown",
   "metadata": {},
   "source": [
    "## **Training Loop**"
   ]
  },
  {
   "cell_type": "code",
   "execution_count": 45,
   "metadata": {},
   "outputs": [
    {
     "name": "stdout",
     "output_type": "stream",
     "text": [
      "Step 0: Train Loss 4.7629; Validation Loss 4.7693\n",
      "Step 10000: Train Loss 2.4670; Validation Loss 2.5038\n",
      "Step 20000: Train Loss 2.4390; Validation Loss 2.5125\n",
      "Step 30000: Train Loss 2.4478; Validation Loss 2.5118\n",
      "Step 40000: Train Loss 2.4473; Validation Loss 2.5083\n",
      "Step 50000: Train Loss 2.4435; Validation Loss 2.5104\n",
      "Step 60000: Train Loss 2.4480; Validation Loss 2.5004\n",
      "Step 70000: Train Loss 2.4485; Validation Loss 2.5103\n",
      "Step 80000: Train Loss 2.4423; Validation Loss 2.5092\n",
      "Step 90000: Train Loss 2.4449; Validation Loss 2.5056\n"
     ]
    }
   ],
   "source": [
    "# Define the optimizer\n",
    "optimizer = torch.optim.AdamW(model.parameters(), lr=1e-3)\n",
    "\n",
    "batch_size = 32\n",
    "\n",
    "# Train the model\n",
    "for i in range(100000):\n",
    "\n",
    "    # Get the data\n",
    "    x, y = get_batch('train')\n",
    "\n",
    "    # Get the logits and loss\n",
    "    logits, loss = model(x, y)\n",
    "\n",
    "    # Zero the gradients\n",
    "    optimizer.zero_grad(set_to_none=True)\n",
    "\n",
    "    # Backpropagate the loss\n",
    "    loss.backward()\n",
    "\n",
    "    # Update the model parameters\n",
    "    optimizer.step()\n",
    "\n",
    "    if i % 10000 == 0:\n",
    "        # print(f'Loss at step {i}: {loss.item()}')\n",
    "        losses = estimate_loss()\n",
    "        print(f\"Step {i}: Train Loss {losses['train']:.4f}; Validation Loss {losses['val']:.4f}\")"
   ]
  },
  {
   "attachments": {},
   "cell_type": "markdown",
   "metadata": {},
   "source": [
    "## **Example text generation**"
   ]
  },
  {
   "cell_type": "code",
   "execution_count": 46,
   "metadata": {},
   "outputs": [
    {
     "name": "stdout",
     "output_type": "stream",
     "text": [
      "\n",
      "K:\n",
      "GOHUCo o tsursooy t!\n",
      "\n",
      "K: spolld are theas\n",
      "Paze OLLorss thathere roy!\n",
      "\n",
      "Whirche gesl.\n",
      "Fineis?\n",
      "Qu athethe s ld ar, s fatinen sthy GUThofiliune t tr I CHary y.\n",
      "ABEThay Grl, my bllle or; I\n",
      "Wit n nge ilit'chot, t may wen sy be art y DWithicr; thofar stwh w henguayongour t wh RI thinshe s\n",
      "I ck swe fer s messed\n",
      "Clf nbimerer,\n",
      "\n",
      "PUS le aipupalaswou d rs s,\n",
      "Luisen beel lis ghee mm oused I rd se tanth tinemese kee che ld m thenoueaicethe n coro t hinerfl hat t bur quthour:\n",
      "HE:\n",
      "\n",
      "\n",
      "\n",
      "\n",
      "KI bid tor d!\n",
      "BORilyonoi\n"
     ]
    }
   ],
   "source": [
    "print(decode(model.generate(torch.zeros((1, 1), dtype=torch.long), max_tokens=500)[0].tolist()))"
   ]
  },
  {
   "attachments": {},
   "cell_type": "markdown",
   "metadata": {},
   "source": [
    "## **Hyperparameters: Attention Mechanism**"
   ]
  },
  {
   "cell_type": "code",
   "execution_count": 47,
   "metadata": {},
   "outputs": [],
   "source": [
    "# Updated parameters\n",
    "\n",
    "batch_size = 32 \n",
    "block_size = 256 \n",
    "max_iters = 1000\n",
    "eval_interval = 500\n",
    "learning_rate = 3e-4\n",
    "device = 'cuda' if torch.cuda.is_available() else 'cpu'\n",
    "eval_iters = 200\n",
    "n_embed = 16\n",
    "n_head = 4\n",
    "n_layer = 4\n",
    "dropout = 0.2"
   ]
  },
  {
   "attachments": {},
   "cell_type": "markdown",
   "metadata": {},
   "source": [
    "## **Defining Single-Head, Multi-Head, FFN & Transformer Block**"
   ]
  },
  {
   "cell_type": "code",
   "execution_count": 48,
   "metadata": {},
   "outputs": [],
   "source": [
    "# Single head attention layer\n",
    "class Head(nn.Module):\n",
    "    \n",
    "    def __init__(self, head_size):\n",
    "        super().__init__()\n",
    "\n",
    "        # Create key, query and value layers\n",
    "        self.key = nn.Linear(n_embed, head_size, bias=False)\n",
    "        self.query = nn.Linear(n_embed, head_size, bias=False)\n",
    "        self.value = nn.Linear(n_embed, head_size, bias=False)\n",
    "        self.register_buffer('tril', torch.tril(torch.ones(block_size, block_size)))\n",
    "        self.dropout = nn.Dropout(dropout)\n",
    "\n",
    "    def forward(self, x):\n",
    "        \n",
    "        B, T, C = x.shape\n",
    "        k = self.key(x) # (B, T, head_size)\n",
    "        q = self.query(x) # (B, T, head_size)\n",
    "\n",
    "        # Calculate attention scores\n",
    "        wei = q @ k.transpose(-2, -1) * C ** -0.5 # (B, T, T)\n",
    "        wei = wei.masked_fill(self.tril[:T, :T] == 0, float('-inf')) # (B, T, T)\n",
    "        wei = F.softmax(wei, dim=-1) # (B, T, T)\n",
    "        wei = self.dropout(wei)\n",
    "\n",
    "        v = self.value(x) # (B, T, head_size)\n",
    "        out = wei @ v # (B, T, head_size)\n",
    "\n",
    "        return out\n",
    "\n",
    "# Multi-head attention layer\n",
    "class MultiHeadAttention(nn.Module):\n",
    "    \n",
    "    def __init__(self, n_heads, head_size):\n",
    "        super().__init__()\n",
    "\n",
    "        # Create a list of heads\n",
    "        self.heads = nn.ModuleList([Head(head_size) for _ in range(n_heads)])\n",
    "\n",
    "        # Create a projection layer\n",
    "        self.proj = nn.Linear(n_embed, n_embed)\n",
    "\n",
    "        # Create a dropout layer\n",
    "        self.dropout = nn.Dropout(dropout)\n",
    "\n",
    "    def forward(self, x):\n",
    "        \n",
    "        # Concatenate the outputs of the heads\n",
    "        out = torch.cat([h(x) for h in self.heads], dim=-1)\n",
    "\n",
    "        # Project the output and apply dropout\n",
    "        out = self.dropout(self.proj(out))\n",
    "\n",
    "        return out\n",
    "    \n",
    "# Feed-forward network \n",
    "class FeedForward(nn.Module):\n",
    "\n",
    "    def __init__(self, n_embed):\n",
    "        super().__init__()\n",
    "\n",
    "        # Create a simple feed-forward network\n",
    "        self.net = nn.Sequential(\n",
    "            nn.Linear(n_embed, 4 * n_embed),\n",
    "            nn.ReLU(),\n",
    "            nn.Linear(4 * n_embed, n_embed),\n",
    "            nn.Dropout(dropout)\n",
    "        )\n",
    "\n",
    "    def forward(self, x):\n",
    "        return self.net(x)\n",
    "\n",
    "# Transformer block\n",
    "class Block(nn.Module):\n",
    "\n",
    "    def __init__(self, n_embed, n_head):\n",
    "        # n_head is the number of heads in the multi-head attention\n",
    "        # n_embed is the number of dimensions in the embedding\n",
    "        super().__init__()\n",
    "\n",
    "        head_size = n_embed // n_head\n",
    "        self.attn = MultiHeadAttention(n_head, head_size)\n",
    "        self.ff = FeedForward(n_embed)\n",
    "        self.layer_norm = nn.LayerNorm(n_embed)\n",
    "        self.layer_norm2 = nn.LayerNorm(n_embed)\n",
    "\n",
    "    def forward(self, x):\n",
    "\n",
    "        # Apply the residual connection and layer normalization within the block\n",
    "        x = x + self.attn(self.layer_norm(x))\n",
    "\n",
    "        # Apply the residual connection and layer normalization within the feed-forward network\n",
    "        x = x + self.ff(self.layer_norm2(x))\n",
    "        \n",
    "        return x"
   ]
  },
  {
   "attachments": {},
   "cell_type": "markdown",
   "metadata": {},
   "source": [
    "## **Defining Language Model with Attention**"
   ]
  },
  {
   "cell_type": "code",
   "execution_count": 61,
   "metadata": {},
   "outputs": [
    {
     "name": "stdout",
     "output_type": "stream",
     "text": [
      "Number of parameters: 0.019201 M\n"
     ]
    }
   ],
   "source": [
    "# Bigram model with Attention\n",
    "class BigramLanguageModel(nn.Module):\n",
    "\n",
    "    def __init__(self, vocab_size):\n",
    "        super().__init__()\n",
    "        \n",
    "        # Each token directly reads off the logits for the next token from a lookup table\n",
    "        self.token_embedding_table = nn.Embedding(vocab_size, n_embed)\n",
    "        self.pos_embedding_table = nn.Embedding(block_size, n_embed)\n",
    "        \n",
    "        # self.attn = Head(n_embed)\n",
    "        # self.heads = MultiHeadAttention(4, n_embed//4) # 4 heads, each with 8 dimensions\n",
    "        self.blocks = nn.Sequential(*[Block(n_embed, n_head=n_head) for _ in range(n_layer)])\n",
    "        self.layer_norm = nn.LayerNorm(n_embed)\n",
    "        self.lm_head = nn.Linear(n_embed, vocab_size)\n",
    "\n",
    "    def forward(self, idx, targets=None):\n",
    "\n",
    "        B, T = idx.shape\n",
    "\n",
    "        # idx and targets are both (B,T) tensor of integers\n",
    "        tok_emb = self.token_embedding_table(idx) # (B,T,C)\n",
    "        pos_emb = self.pos_embedding_table(torch.arange(T, device=device)) # (T,C)\n",
    "        x = tok_emb + pos_emb # (B,T,C)\n",
    "        \n",
    "        # x = self.heads(x) # (B,T,C)\n",
    "        # x = self.ff(x) # (B,T,C)\n",
    "        x = self.blocks(x)\n",
    "        logits = self.lm_head(x) # (B,T, vocab_size)\n",
    "\n",
    "        if targets is None:\n",
    "            loss = None\n",
    "        else:\n",
    "            B, T, C = logits.shape\n",
    "            logits = logits.view(B*T, C)\n",
    "            targets = targets.view(B*T)\n",
    "            loss = F.cross_entropy(logits, targets)\n",
    "\n",
    "        return logits, loss\n",
    "\n",
    "    def generate(self, idx, max_new_tokens):\n",
    "        \n",
    "        # idx is (B, T) array of indices in the current context\n",
    "        for _ in range(max_new_tokens):\n",
    "            \n",
    "            # Get the last block_size tokens\n",
    "            idx_conditioned = idx[:, -block_size:] # (B, block_size)\n",
    "\n",
    "            # Get the predictions\n",
    "            logits, loss = self(idx_conditioned)\n",
    "            \n",
    "            # Focus only on the last time step\n",
    "            logits = logits[:, -1, :] # becomes (B, C)\n",
    "            \n",
    "            # Apply softmax to get probabilities\n",
    "            probs = F.softmax(logits, dim=-1) # (B, C)\n",
    "            \n",
    "            # Sample from the distribution\n",
    "            idx_next = torch.multinomial(probs, num_samples=1) # (B, 1)\n",
    "            \n",
    "            # Append sampled index to the running sequence\n",
    "            idx = torch.cat((idx, idx_next), dim=1) # (B, T+1)\n",
    "        \n",
    "        return idx\n",
    "\n",
    "model = BigramLanguageModel(vocab_size)\n",
    "m = model.to(device)\n",
    "\n",
    "print(f\"Number of parameters: {sum(p.numel() for p in m.parameters())/1e6} M\")"
   ]
  },
  {
   "attachments": {},
   "cell_type": "markdown",
   "metadata": {},
   "source": [
    "## **Training Loop**"
   ]
  },
  {
   "cell_type": "code",
   "execution_count": 62,
   "metadata": {},
   "outputs": [
    {
     "name": "stdout",
     "output_type": "stream",
     "text": [
      "Step 0: Train Loss 4.4128; Validation Loss 4.4263\n",
      "Step 100: Train Loss 3.0874; Validation Loss 3.1170\n",
      "Step 200: Train Loss 2.8457; Validation Loss 2.8765\n",
      "Step 300: Train Loss 2.7423; Validation Loss 2.7720\n",
      "Step 400: Train Loss 2.6763; Validation Loss 2.7043\n",
      "Step 500: Train Loss 2.6313; Validation Loss 2.6603\n",
      "Step 600: Train Loss 2.5968; Validation Loss 2.6274\n",
      "Step 700: Train Loss 2.5704; Validation Loss 2.5985\n",
      "Step 800: Train Loss 2.5525; Validation Loss 2.5765\n",
      "Step 900: Train Loss 2.5350; Validation Loss 2.5612\n"
     ]
    }
   ],
   "source": [
    "# Define the optimizer\n",
    "optimizer = torch.optim.AdamW(model.parameters(), lr=1e-3)\n",
    "\n",
    "batch_size = 32\n",
    "\n",
    "# Train the model\n",
    "for i in range(1000):\n",
    "\n",
    "    # Get the data\n",
    "    x, y = get_batch('train')\n",
    "\n",
    "    # Get the logits and loss\n",
    "    logits, loss = model(x, y)\n",
    "\n",
    "    # Zero the gradients\n",
    "    optimizer.zero_grad(set_to_none=True)\n",
    "\n",
    "    # Backpropagate the loss\n",
    "    loss.backward()\n",
    "\n",
    "    # Update the model parameters\n",
    "    optimizer.step()\n",
    "\n",
    "    if i % 100 == 0:\n",
    "        # print(f'Loss at step {i}: {loss.item()}')\n",
    "        losses = estimate_loss()\n",
    "        print(f\"Step {i}: Train Loss {losses['train']:.4f}; Validation Loss {losses['val']:.4f}\")"
   ]
  },
  {
   "attachments": {},
   "cell_type": "markdown",
   "metadata": {},
   "source": [
    "## **Example Text generation: Attention mechanism**"
   ]
  },
  {
   "cell_type": "code",
   "execution_count": 63,
   "metadata": {},
   "outputs": [
    {
     "name": "stdout",
     "output_type": "stream",
     "text": [
      "\n",
      "A, Loreat bipangusghtheeand t ls;\n",
      "OTo wigost in illirile arshe, yd.\n",
      "Thitod:\n",
      "L'onmy\n",
      "By an dl.\n",
      "Sougay.\n",
      "Bou t thouonde! w w arce,\n",
      "KISI d I fos s y\n",
      "G\n",
      "SES:\n",
      "\n",
      "NNLI mind s thot touds or ay k I\n",
      "Wesen atou sonke e tharm n ve icany wee thh rud, lere ferbss qe, ff.\n",
      "Wher t mofo, p mathedbend ton inel HLoun-picole gr benis a\n",
      "IP s heyorougher; a you'ees d he s port Vd bame tot wil merd we chispAthour myrith we o seaon lantpancoree he an aniure mal haoroue. fldind\n",
      "NKOCee tiresly facent, te' nesin ae uree hiob t\n"
     ]
    }
   ],
   "source": [
    "print(decode(m.generate(torch.zeros((1, 1), dtype=torch.long), max_new_tokens=500)[0].tolist()))"
   ]
  }
 ],
 "metadata": {
  "kernelspec": {
   "display_name": "ai",
   "language": "python",
   "name": "python3"
  },
  "language_info": {
   "codemirror_mode": {
    "name": "ipython",
    "version": 3
   },
   "file_extension": ".py",
   "mimetype": "text/x-python",
   "name": "python",
   "nbconvert_exporter": "python",
   "pygments_lexer": "ipython3",
   "version": "3.9.12"
  },
  "orig_nbformat": 4,
  "vscode": {
   "interpreter": {
    "hash": "a4db8d89388d2d813bdcde728ee03c112b1e372fffd94bf53858b6f7f9575528"
   }
  }
 },
 "nbformat": 4,
 "nbformat_minor": 2
}
