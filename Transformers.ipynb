{
  "cells": [
    {
      "attachments": {},
      "cell_type": "markdown",
      "metadata": {},
      "source": [
        "## **Importing libraries and Dataset**"
      ]
    },
    {
      "cell_type": "code",
      "execution_count": 2,
      "metadata": {
        "colab": {
          "base_uri": "https://localhost:8080/"
        },
        "id": "2BAKOHgx3o3Y",
        "outputId": "d60103fd-fc51-47ae-a6f6-829ae21e02f5"
      },
      "outputs": [
        {
          "name": "stdout",
          "output_type": "stream",
          "text": [
            "Downloading data from https://s3.amazonaws.com/research.metamind.io/wikitext/wikitext-103-raw-v1.zip\n",
            "191984949/191984949 [==============================] - 17s 0us/step\n",
            "Downloading data from https://dl.fbaipublicfiles.com/glue/data/SST-2.zip\n",
            "7439277/7439277 [==============================] - 2s 0us/step\n",
            "Downloading data from https://storage.googleapis.com/tensorflow/keras-nlp/examples/bert/bert_vocab_uncased.txt\n",
            "231508/231508 [==============================] - 0s 2us/step\n"
          ]
        }
      ],
      "source": [
        "import os\n",
        "import keras_nlp\n",
        "import tensorflow as tf\n",
        "from tensorflow import keras\n",
        "\n",
        "policy = keras.mixed_precision.Policy(\"mixed_float16\")\n",
        "keras.mixed_precision.set_global_policy(policy)\n",
        "\n",
        "\n",
        "# Download pretraining data.\n",
        "keras.utils.get_file(\n",
        "    origin=\"https://s3.amazonaws.com/research.metamind.io/wikitext/wikitext-103-raw-v1.zip\",\n",
        "    extract=True,\n",
        ")\n",
        "wiki_dir = os.path.expanduser(\"~/.keras/datasets/wikitext-103-raw/\")\n",
        "\n",
        "# Download finetuning data.\n",
        "keras.utils.get_file(\n",
        "    origin=\"https://dl.fbaipublicfiles.com/glue/data/SST-2.zip\",\n",
        "    extract=True,\n",
        ")\n",
        "sst_dir = os.path.expanduser(\"~/.keras/datasets/SST-2/\")\n",
        "\n",
        "# Download vocabulary data.\n",
        "vocab_file = keras.utils.get_file(\n",
        "    origin=\"https://storage.googleapis.com/tensorflow/keras-nlp/examples/bert/bert_vocab_uncased.txt\",\n",
        ")"
      ]
    },
    {
      "attachments": {},
      "cell_type": "markdown",
      "metadata": {},
      "source": [
        " - ### Defining the Hyperparameters\n",
        " - ### Loading Data\n",
        " - ### Text Vectorization\n",
        " - ### Establish a baseline (Regression Model)\n",
        " - ### Masked Language Model: Data Processing, Encodings, Modelling"
      ]
    },
    {
      "cell_type": "code",
      "execution_count": 3,
      "metadata": {
        "colab": {
          "base_uri": "https://localhost:8080/"
        },
        "id": "L5mym6G53vtF",
        "outputId": "b92ff540-8ee4-4f6b-fd1d-34a2053ccb13"
      },
      "outputs": [
        {
          "name": "stderr",
          "output_type": "stream",
          "text": [
            "WARNING:tensorflow:From /usr/local/lib/python3.8/dist-packages/tensorflow/python/autograph/pyct/static_analysis/liveness.py:83: Analyzer.lamba_check (from tensorflow.python.autograph.pyct.static_analysis.liveness) is deprecated and will be removed after 2023-09-23.\n",
            "Instructions for updating:\n",
            "Lambda fuctions will be no more assumed to be used in the statement where they are used, or at least in the same block. https://github.com/tensorflow/tensorflow/issues/56089\n"
          ]
        },
        {
          "name": "stdout",
          "output_type": "stream",
          "text": [
            "(<tf.Tensor: shape=(4,), dtype=string, numpy=\n",
            "array([b'hide new secretions from the parental units ',\n",
            "       b'contains no wit , only labored gags ',\n",
            "       b'that loves its characters and communicates something rather beautiful about human nature ',\n",
            "       b'remains utterly satisfied to remain the same throughout '],\n",
            "      dtype=object)>, <tf.Tensor: shape=(4,), dtype=int32, numpy=array([0, 0, 1, 0], dtype=int32)>)\n",
            "Epoch 1/5\n",
            "2105/2105 [==============================] - 14s 5ms/step - loss: 0.6124 - accuracy: 0.6890 - val_loss: 0.5347 - val_accuracy: 0.7523\n",
            "Epoch 2/5\n",
            "2105/2105 [==============================] - 9s 4ms/step - loss: 0.5246 - accuracy: 0.7608 - val_loss: 0.4868 - val_accuracy: 0.7787\n",
            "Epoch 3/5\n",
            "2105/2105 [==============================] - 10s 5ms/step - loss: 0.4784 - accuracy: 0.7877 - val_loss: 0.4663 - val_accuracy: 0.8005\n",
            "Epoch 4/5\n",
            "2105/2105 [==============================] - 10s 5ms/step - loss: 0.4484 - accuracy: 0.8013 - val_loss: 0.4574 - val_accuracy: 0.8016\n",
            "Epoch 5/5\n",
            "2105/2105 [==============================] - 10s 5ms/step - loss: 0.4271 - accuracy: 0.8115 - val_loss: 0.4544 - val_accuracy: 0.8028\n",
            "({'token_ids': <tf.Tensor: shape=(128, 128), dtype=int32, numpy=\n",
            "array([[ 103, 7849, 2271, ...,  103, 1012, 7570],\n",
            "       [7570,  103, 2271, ..., 1007, 1012,  103],\n",
            "       [1996, 2034, 3940, ...,    0,    0,    0],\n",
            "       ...,\n",
            "       [2076,  103, 2307, ...,    0,    0,    0],\n",
            "       [3216, 2225, 2083, ...,    0,    0,    0],\n",
            "       [9794, 2007, 1045, ...,    0,    0,    0]], dtype=int32)>, 'mask_positions': <tf.Tensor: shape=(128, 32), dtype=int64, numpy=\n",
            "array([[  0,   6,  11, ..., 111, 114, 125],\n",
            "       [  1,   4,   6, ..., 119, 122, 127],\n",
            "       [  8,  11,  13, ...,   0,   0,   0],\n",
            "       ...,\n",
            "       [  1,   7,  12, ..., 116, 120,   0],\n",
            "       [ 11,  17,  20, ...,   0,   0,   0],\n",
            "       [  8,  12,  25, ...,   0,   0,   0]])>}, <tf.Tensor: shape=(128, 32), dtype=int32, numpy=\n",
            "array([[ 7570,  2124,  2030, ...,  2011,  2005,  9673],\n",
            "       [ 7849,  7946,  1037, ...,  5149,  9587,  2023],\n",
            "       [ 4273,  2312,  2004, ...,     0,     0,     0],\n",
            "       ...,\n",
            "       [ 1996,  1996,  3199, ..., 29505,  1012,     0],\n",
            "       [ 1010, 10722,  8820, ...,     0,     0,     0],\n",
            "       [ 1996,  2167,  1010, ...,     0,     0,     0]], dtype=int32)>, <tf.Tensor: shape=(128, 32), dtype=float16, numpy=\n",
            "array([[1., 1., 1., ..., 1., 1., 1.],\n",
            "       [1., 1., 1., ..., 1., 1., 1.],\n",
            "       [1., 1., 1., ..., 0., 0., 0.],\n",
            "       ...,\n",
            "       [1., 1., 1., ..., 1., 1., 0.],\n",
            "       [1., 1., 1., ..., 0., 0., 0.],\n",
            "       [1., 1., 1., ..., 0., 0., 0.]], dtype=float16)>)\n",
            "Model: \"model_1\"\n",
            "_________________________________________________________________\n",
            " Layer (type)                Output Shape              Param #   \n",
            "=================================================================\n",
            " input_2 (InputLayer)        [(None, 128)]             0         \n",
            "                                                                 \n",
            " token_and_position_embeddin  (None, 128, 256)         7846400   \n",
            " g (TokenAndPositionEmbeddin                                     \n",
            " g)                                                              \n",
            "                                                                 \n",
            " layer_normalization (LayerN  (None, 128, 256)         512       \n",
            " ormalization)                                                   \n",
            "                                                                 \n",
            " dropout (Dropout)           (None, 128, 256)          0         \n",
            "                                                                 \n",
            " transformer_encoder (Transf  (None, 128, 256)         527104    \n",
            " ormerEncoder)                                                   \n",
            "                                                                 \n",
            " transformer_encoder_1 (Tran  (None, 128, 256)         527104    \n",
            " sformerEncoder)                                                 \n",
            "                                                                 \n",
            " transformer_encoder_2 (Tran  (None, 128, 256)         527104    \n",
            " sformerEncoder)                                                 \n",
            "                                                                 \n",
            "=================================================================\n",
            "Total params: 9,428,224\n",
            "Trainable params: 9,428,224\n",
            "Non-trainable params: 0\n",
            "_________________________________________________________________\n"
          ]
        }
      ],
      "source": [
        "\"\"\"\n",
        "Next, we define some hyperparameters we will use during training.\n",
        "\"\"\"\n",
        "\n",
        "# Preprocessing params.\n",
        "PRETRAINING_BATCH_SIZE = 128\n",
        "FINETUNING_BATCH_SIZE = 32\n",
        "SEQ_LENGTH = 128\n",
        "MASK_RATE = 0.25\n",
        "PREDICTIONS_PER_SEQ = 32\n",
        "\n",
        "# Model params.\n",
        "NUM_LAYERS = 3\n",
        "MODEL_DIM = 256\n",
        "INTERMEDIATE_DIM = 512\n",
        "NUM_HEADS = 4\n",
        "DROPOUT = 0.1\n",
        "NORM_EPSILON = 1e-5\n",
        "\n",
        "# Training params.\n",
        "PRETRAINING_LEARNING_RATE = 5e-4\n",
        "PRETRAINING_EPOCHS = 8\n",
        "FINETUNING_LEARNING_RATE = 5e-5\n",
        "FINETUNING_EPOCHS = 3\n",
        "\n",
        "\"\"\"\n",
        "### Load data\n",
        "\n",
        "We load our data with [tf.data](https://www.tensorflow.org/guide/data), which will allow\n",
        "us to define input pipelines for tokenizing and preprocessing text.\n",
        "\"\"\"\n",
        "\n",
        "# Load SST-2.\n",
        "sst_train_ds = tf.data.experimental.CsvDataset(\n",
        "    sst_dir + \"train.tsv\", [tf.string, tf.int32], header=True, field_delim=\"\\t\"\n",
        ").batch(FINETUNING_BATCH_SIZE)\n",
        "sst_val_ds = tf.data.experimental.CsvDataset(\n",
        "    sst_dir + \"dev.tsv\", [tf.string, tf.int32], header=True, field_delim=\"\\t\"\n",
        ").batch(FINETUNING_BATCH_SIZE)\n",
        "\n",
        "# Load wikitext-103 and filter out short lines.\n",
        "wiki_train_ds = (\n",
        "    tf.data.TextLineDataset(wiki_dir + \"wiki.train.raw\")\n",
        "    .filter(lambda x: tf.strings.length(x) > 100)\n",
        "    .batch(PRETRAINING_BATCH_SIZE)\n",
        ")\n",
        "wiki_val_ds = (\n",
        "    tf.data.TextLineDataset(wiki_dir + \"wiki.valid.raw\")\n",
        "    .filter(lambda x: tf.strings.length(x) > 100)\n",
        "    .batch(PRETRAINING_BATCH_SIZE)\n",
        ")\n",
        "\n",
        "# Take a peak at the sst-2 dataset.\n",
        "print(sst_train_ds.unbatch().batch(4).take(1).get_single_element())\n",
        "\n",
        "\"\"\"\n",
        "You can see that our `SST-2` dataset contains relatively short snippets of movie review\n",
        "text. Our goal is to predict the sentiment of the snippet. A label of 1 indicates\n",
        "positive sentiment, and a label of 0 negative sentiment.\n",
        "\"\"\"\n",
        "\n",
        "\"\"\"\n",
        "### Establish a baseline\n",
        "\n",
        "As a first step, we will establish a baseline of good performance. We don't actually need\n",
        "KerasNLP for this, we can just use core Keras layers.\n",
        "\n",
        "We will train a simple bag-of-words model, where we learn a positive or negative weight\n",
        "for each word in our vocabulary. A sample's score is simply the sum of the weights of all\n",
        "words that are present in the sample.\n",
        "\"\"\"\n",
        "\n",
        "# This layer will turn our input sentence into a list of 1s and 0s the same size\n",
        "# our vocabulary, indicating whether a word is present in absent.\n",
        "multi_hot_layer = keras.layers.TextVectorization(\n",
        "    max_tokens=4000, output_mode=\"multi_hot\"\n",
        ")\n",
        "multi_hot_layer.adapt(sst_train_ds.map(lambda x, y: x))\n",
        "# We then learn a linear regression over that layer, and that's our entire\n",
        "# baseline model!\n",
        "regression_layer = keras.layers.Dense(1, activation=\"sigmoid\")\n",
        "\n",
        "inputs = keras.Input(shape=(), dtype=\"string\")\n",
        "outputs = regression_layer(multi_hot_layer(inputs))\n",
        "baseline_model = keras.Model(inputs, outputs)\n",
        "baseline_model.compile(loss=\"binary_crossentropy\", metrics=[\"accuracy\"])\n",
        "baseline_model.fit(sst_train_ds, validation_data=sst_val_ds, epochs=5)\n",
        "\n",
        "\"\"\"\n",
        "A bag-of-words approach can be a fast and suprisingly powerful, especially when input\n",
        "examples contain a large number of words. With shorter sequences, it can hit a\n",
        "performance ceiling.\n",
        "\n",
        "To do better, we would like to build a model that can evaluate words *in context*. Instead\n",
        "of evaluating each word in a void, we need to use the information contained in the\n",
        "*entire ordered sequence* of our input.\n",
        "\n",
        "This runs us into a problem. `SST-2` is very small dataset, and there's simply not enough\n",
        "example text to attempt to build a larger, more parameterized model that can learn on a\n",
        "sequence. We would quickly start to overfit and memorize our training set, without any\n",
        "increase in our ability to generalize to unseen examples.\n",
        "\n",
        "Enter **pretraining**, which will allow us to learn on a larger corpus, and transfer our\n",
        "knowledge to the `SST-2` task. And enter **KerasNLP**, which will allow us to pretrain a\n",
        "particularly powerful model, the Transformer, with ease.\n",
        "\"\"\"\n",
        "\n",
        "\"\"\"\n",
        "## Pretraining\n",
        "\n",
        "To beat our baseline, we will leverage the `WikiText103` dataset, an unlabeled\n",
        "collection of wikipedia articles that is much bigger than than `SST-2`.\n",
        "\n",
        "We are going to train a *transformer*, a highly expressive model which will learn\n",
        "to embed each word in our input as a low dimentional vector. Our wikipedia dataset has no\n",
        "labels, so we will use an unsupervised training objective called the *Masked Language\n",
        "Modeling* (MaskedLM) ojective.\n",
        "\n",
        "Essentially, we will be playing a big game of \"guess the missing word\". For each input\n",
        "sample we will obscure 25% of our input data, and train our model to predict the parts we\n",
        "covered up.\n",
        "\"\"\"\n",
        "\n",
        "\"\"\"\n",
        "### Preprocess data for the MaskedLM task\n",
        "\n",
        "Our text preprocessing for the MaskedLM task will occur in two stages.\n",
        "\n",
        "1. Tokenize input text into integer sequences of token ids.\n",
        "2. Mask certain positions in our input to predict on.\n",
        "\n",
        "To tokenize, we can use a `keras_nlp.tokenizers.Tokenizer` -- the KerasNLP building block\n",
        "for transforming text into sequences of integer token ids.\n",
        "\n",
        "In particular, we will use `keras_nlp.tokenizers.WordPieceTokenizer` which does\n",
        "*sub-word* tokenization. Sub-word tokenization is popular when training models on large\n",
        "text corpora. Essentially, it allows our model to learn from uncommon words, while not\n",
        "requireing a massive vocabulary of every word in our training set.\n",
        "\n",
        "The second thing we need to do is mask our input for the MaskedLM task. To do this, we can use\n",
        "`keras_nlp.layers.MaskedLMMaskGenerator`, which will randomly select a set of tokens in each\n",
        "input and mask them out.\n",
        "\n",
        "The tokenizer and the masking layer can both be used inside a call to\n",
        "[tf.data.Dataset.map](https://www.tensorflow.org/api_docs/python/tf/data/Dataset#map).\n",
        "We can use `tf.data` to efficiently pre-compute each batch on the CPU, while our GPU or TPU\n",
        "works on training with the batch that came before. Because our masking layer will\n",
        "choose new words to mask each time, each epoch over our dataset will give us a totally\n",
        "new set of labels to train on.\n",
        "\"\"\"\n",
        "\n",
        "# Setting sequence_length will trim or pad the token outputs to shape\n",
        "# (batch_size, SEQ_LENGTH).\n",
        "tokenizer = keras_nlp.tokenizers.WordPieceTokenizer(\n",
        "    vocabulary=vocab_file,\n",
        "    sequence_length=SEQ_LENGTH,\n",
        "    lowercase=True,\n",
        "    strip_accents=True,\n",
        ")\n",
        "# Setting mask_selection_length will trim or pad the mask outputs to shape\n",
        "# (batch_size, PREDICTIONS_PER_SEQ).\n",
        "masker = keras_nlp.layers.MaskedLMMaskGenerator(\n",
        "    vocabulary_size=tokenizer.vocabulary_size(),\n",
        "    mask_selection_rate=MASK_RATE,\n",
        "    mask_selection_length=PREDICTIONS_PER_SEQ,\n",
        "    mask_token_id=tokenizer.token_to_id(\"[MASK]\"),\n",
        ")\n",
        "\n",
        "\n",
        "def preprocess(inputs):\n",
        "    inputs = tokenizer(inputs)\n",
        "    outputs = masker(inputs)\n",
        "    # Split the masking layer outputs into a (features, labels, and weights)\n",
        "    # tuple that we can use with keras.Model.fit().\n",
        "    features = {\n",
        "        \"token_ids\": outputs[\"token_ids\"],\n",
        "        \"mask_positions\": outputs[\"mask_positions\"],\n",
        "    }\n",
        "    labels = outputs[\"mask_ids\"]\n",
        "    weights = outputs[\"mask_weights\"]\n",
        "    return features, labels, weights\n",
        "\n",
        "\n",
        "# We use prefetch() to pre-compute preprocessed batches on the fly on the CPU.\n",
        "pretrain_ds = wiki_train_ds.map(\n",
        "    preprocess, num_parallel_calls=tf.data.AUTOTUNE\n",
        ").prefetch(tf.data.AUTOTUNE)\n",
        "pretrain_val_ds = wiki_val_ds.map(\n",
        "    preprocess, num_parallel_calls=tf.data.AUTOTUNE\n",
        ").prefetch(tf.data.AUTOTUNE)\n",
        "\n",
        "# Preview a single input example.\n",
        "# The masks will change each time you run the cell.\n",
        "print(pretrain_val_ds.take(1).get_single_element())\n",
        "\n",
        "\"\"\"\n",
        "The above block sorts our dataset into a `(features, labels, weights)` tuple, which can be\n",
        "passed directly to `keras.Model.fit()`.\n",
        "\n",
        "We have two features:\n",
        "\n",
        "1. `\"token_ids\"`, where some tokens have been replaced with our mask token id.\n",
        "2. `\"mask_positions\"`, which keeps track of which tokens we masked out.\n",
        "\n",
        "Our labels are simply the ids we masked out.\n",
        "\n",
        "Because not all sequences will have the same number of masks, we also keep a\n",
        "`sample_weight` tensor, which removes padded labels from our loss function by giving them\n",
        "zero weight.\n",
        "\"\"\"\n",
        "\n",
        "\"\"\"\n",
        "### Create the Transformer encoder\n",
        "\n",
        "KerasNLP provides all the building blocks to quickly build a Transformer encoder.\n",
        "\n",
        "We use `keras_nlp.layers.TokenAndPositionEmbedding` to first embed our input token ids.\n",
        "This layer simultaneously learns two embeddings -- one for words in a sentence and another\n",
        "for integer positions in a sentence. The output embedding is simply the sum of the two.\n",
        "\n",
        "Then we can add a series of `keras_nlp.layers.TransformerEncoder` layers. These are the\n",
        "bread and butter of the Transformer model, using an attention mechanism to attend to\n",
        "different parts of the input sentence, followed by a multi-layer perceptron block.\n",
        "\n",
        "The output of this model will be a encoded vector per input token id. Unlike the\n",
        "bag-of-words model we used as a baseline, this model will embed each token accounting for\n",
        "the context in which it appeared.\n",
        "\"\"\"\n",
        "\n",
        "inputs = keras.Input(shape=(SEQ_LENGTH,), dtype=tf.int32)\n",
        "\n",
        "# Embed our tokens with a positional embedding.\n",
        "embedding_layer = keras_nlp.layers.TokenAndPositionEmbedding(\n",
        "    vocabulary_size=tokenizer.vocabulary_size(),\n",
        "    sequence_length=SEQ_LENGTH,\n",
        "    embedding_dim=MODEL_DIM,\n",
        ")\n",
        "outputs = embedding_layer(inputs)\n",
        "\n",
        "# Apply layer normalization and dropout to the embedding.\n",
        "outputs = keras.layers.LayerNormalization(epsilon=NORM_EPSILON)(outputs)\n",
        "outputs = keras.layers.Dropout(rate=DROPOUT)(outputs)\n",
        "\n",
        "# Add a number of encoder blocks\n",
        "for i in range(NUM_LAYERS):\n",
        "    outputs = keras_nlp.layers.TransformerEncoder(\n",
        "        intermediate_dim=INTERMEDIATE_DIM,\n",
        "        num_heads=NUM_HEADS,\n",
        "        dropout=DROPOUT,\n",
        "        layer_norm_epsilon=NORM_EPSILON,\n",
        "    )(outputs)\n",
        "\n",
        "encoder_model = keras.Model(inputs, outputs)\n",
        "encoder_model.summary()\n",
        "\n",
        "\"\"\"\n",
        "### Pretrain the Transformer\n",
        "\n",
        "You can think of the `encoder_model` as it's own modular unit, it is the piece of our\n",
        "model that we are really interested in for our downstream task. However we still need to\n",
        "set up the encoder to train on the MaskedLM task; to do that we attach a\n",
        "`keras_nlp.layers.MaskedLMHead`.\n",
        "\n",
        "This layer will take as one input the token encodings, and as another the positions we\n",
        "masked out in the original input. It will gather the token encodings we masked, and\n",
        "transform them back in predictions over our entire vocabulary.\n",
        "\n",
        "With that, we are ready to compile and run pretraining. If you are running this in a\n",
        "colab, note that this will take about an hour. Training Transformer is famously compute\n",
        "intesive, so even this relatively small Transformer will take some time.\n",
        "\"\"\"\n",
        "\n",
        "# Create the pretraining model by attaching a masked language model head.\n",
        "inputs = {\n",
        "    \"token_ids\": keras.Input(shape=(SEQ_LENGTH,), dtype=tf.int32),\n",
        "    \"mask_positions\": keras.Input(shape=(PREDICTIONS_PER_SEQ,), dtype=tf.int32),\n",
        "}\n",
        "\n",
        "# Encode the tokens.\n",
        "encoded_tokens = encoder_model(inputs[\"token_ids\"])\n",
        "\n",
        "# Predict an output word for each masked input token.\n",
        "# We use the input token embedding to project from our encoded vectors to\n",
        "# vocabulary logits, which has been shown to improve training efficiency.\n",
        "outputs = keras_nlp.layers.MaskedLMHead(\n",
        "    embedding_weights=embedding_layer.token_embedding.embeddings,\n",
        "    activation=\"softmax\",\n",
        ")(encoded_tokens, mask_positions=inputs[\"mask_positions\"])\n",
        "\n",
        "# Define and compile our pretraining model.\n",
        "pretraining_model = keras.Model(inputs, outputs)\n",
        "pretraining_model.compile(\n",
        "    loss=\"sparse_categorical_crossentropy\",\n",
        "    optimizer=keras.optimizers.experimental.AdamW(PRETRAINING_LEARNING_RATE),\n",
        "    weighted_metrics=[\"sparse_categorical_accuracy\"],\n",
        "    jit_compile=True,\n",
        ")"
      ]
    },
    {
      "attachments": {},
      "cell_type": "markdown",
      "metadata": {},
      "source": [
        "### Pre-training and Fine-tuning"
      ]
    },
    {
      "cell_type": "code",
      "execution_count": 4,
      "metadata": {
        "colab": {
          "base_uri": "https://localhost:8080/"
        },
        "id": "zXbucK7W5a98",
        "outputId": "880d5809-0c30-4e1c-e586-cbca7015c04f"
      },
      "outputs": [
        {
          "name": "stdout",
          "output_type": "stream",
          "text": [
            "Epoch 1/8\n",
            "5857/5857 [==============================] - 690s 114ms/step - loss: 4.6395 - sparse_categorical_accuracy: 0.2267 - val_loss: 3.4147 - val_sparse_categorical_accuracy: 0.3587\n",
            "Epoch 2/8\n",
            "5857/5857 [==============================] - 645s 110ms/step - loss: 3.4442 - sparse_categorical_accuracy: 0.3602 - val_loss: 3.0265 - val_sparse_categorical_accuracy: 0.4088\n",
            "Epoch 3/8\n",
            "5857/5857 [==============================] - 644s 110ms/step - loss: 3.1839 - sparse_categorical_accuracy: 0.3903 - val_loss: 2.8661 - val_sparse_categorical_accuracy: 0.4256\n",
            "Epoch 4/8\n",
            "5857/5857 [==============================] - 643s 110ms/step - loss: 3.0541 - sparse_categorical_accuracy: 0.4054 - val_loss: 2.7542 - val_sparse_categorical_accuracy: 0.4403\n",
            "Epoch 5/8\n",
            "5857/5857 [==============================] - 643s 110ms/step - loss: 2.9732 - sparse_categorical_accuracy: 0.4146 - val_loss: 2.6932 - val_sparse_categorical_accuracy: 0.4474\n",
            "Epoch 6/8\n",
            "5857/5857 [==============================] - 641s 109ms/step - loss: 2.9168 - sparse_categorical_accuracy: 0.4210 - val_loss: 2.6818 - val_sparse_categorical_accuracy: 0.4492\n",
            "Epoch 7/8\n",
            "5857/5857 [==============================] - 642s 110ms/step - loss: 2.8764 - sparse_categorical_accuracy: 0.4255 - val_loss: 2.6174 - val_sparse_categorical_accuracy: 0.4572\n",
            "Epoch 8/8\n",
            "5857/5857 [==============================] - 641s 109ms/step - loss: 2.8447 - sparse_categorical_accuracy: 0.4289 - val_loss: 2.6013 - val_sparse_categorical_accuracy: 0.4606\n"
          ]
        },
        {
          "name": "stderr",
          "output_type": "stream",
          "text": [
            "WARNING:tensorflow:Compiled the loaded model, but the compiled metrics have yet to be built. `model.compile_metrics` will be empty until you train or evaluate the model.\n",
            "WARNING:absl:Found untraced functions such as token_embedding1_layer_call_fn, token_embedding1_layer_call_and_return_conditional_losses, position_embedding1_layer_call_fn, position_embedding1_layer_call_and_return_conditional_losses, multi_head_attention_layer_call_fn while saving (showing 5 of 82). These functions will not be directly callable after loading.\n"
          ]
        },
        {
          "name": "stdout",
          "output_type": "stream",
          "text": [
            "(<tf.Tensor: shape=(32, 128), dtype=int32, numpy=\n",
            "array([[ 2009,  1005,  1055, ...,     0,     0,     0],\n",
            "       [ 4895, 10258,  2378, ...,     0,     0,     0],\n",
            "       [ 4473,  2149,  2000, ...,     0,     0,     0],\n",
            "       ...,\n",
            "       [ 1045,  2018,  2000, ...,     0,     0,     0],\n",
            "       [ 4283,  2000,  3660, ...,     0,     0,     0],\n",
            "       [ 1012,  1012,  1012, ...,     0,     0,     0]], dtype=int32)>, <tf.Tensor: shape=(32,), dtype=int32, numpy=\n",
            "array([1, 0, 1, 1, 0, 1, 0, 0, 1, 0, 1, 0, 0, 1, 0, 1, 1, 1, 0, 0, 0, 0,\n",
            "       0, 1, 1, 0, 0, 1, 0, 0, 1, 0], dtype=int32)>)\n"
          ]
        }
      ],
      "source": [
        "# Pretrain the model on our wiki text dataset.\n",
        "pretraining_model.fit(\n",
        "    pretrain_ds,\n",
        "    validation_data=pretrain_val_ds,\n",
        "    epochs=PRETRAINING_EPOCHS,\n",
        ")\n",
        "\n",
        "# Save this base model for further finetuning.\n",
        "encoder_model.save(\"encoder_model\")\n",
        "\n",
        "\"\"\"\n",
        "## Fine-tuning\n",
        "\n",
        "After pretraining, we can now fine-tune our model on the `SST-2` dataset. We can\n",
        "leverage the ability of the encoder we build to predict on words in context to boost our\n",
        "our performance on the downstream task.\n",
        "\"\"\"\n",
        "\n",
        "\"\"\"\n",
        "### Preprocess data for classification\n",
        "\n",
        "Preprocessing for fine-tuning is much simpler than for our pretraining MaskedLM task. We just\n",
        "tokenize our input sentences and we are ready for training!\n",
        "\"\"\"\n",
        "\n",
        "\n",
        "def preprocess(sentences, labels):\n",
        "    return tokenizer(sentences), labels\n",
        "\n",
        "\n",
        "# We use prefetch() to pre-compute preprocessed batches on the fly on our CPU.\n",
        "finetune_ds = sst_train_ds.map(\n",
        "    preprocess, num_parallel_calls=tf.data.AUTOTUNE\n",
        ").prefetch(tf.data.AUTOTUNE)\n",
        "finetune_val_ds = sst_val_ds.map(\n",
        "    preprocess, num_parallel_calls=tf.data.AUTOTUNE\n",
        ").prefetch(tf.data.AUTOTUNE)\n",
        "\n",
        "# Preview a single input example.\n",
        "print(finetune_val_ds.take(1).get_single_element())\n",
        "\n",
        "\"\"\"\n",
        "### Fine-tune the Transformer\n",
        "\n",
        "To go from our encoded token output to a classification prediction, we need to attach\n",
        "another \"head\" to our Transformer model. We can afford to be simple here. We pool\n",
        "the encoded tokens together, and use a single dense layer to make a prediction.\n",
        "\"\"\"\n",
        "\n",
        "# Reload the encoder model from disk so we can restart fine-tuning from scratch.\n",
        "encoder_model = keras.models.load_model(\"encoder_model\", compile=False)\n",
        "\n",
        "# Take as input the tokenized input.\n",
        "inputs = keras.Input(shape=(SEQ_LENGTH,), dtype=tf.int32)\n",
        "\n",
        "# Encode and pool the tokens.\n",
        "encoded_tokens = encoder_model(inputs)\n",
        "pooled_tokens = keras.layers.GlobalAveragePooling1D()(encoded_tokens)\n",
        "\n",
        "# Predict an output label.\n",
        "outputs = keras.layers.Dense(1, activation=\"sigmoid\")(pooled_tokens)\n",
        "\n",
        "# Define and compile our finetuning model.\n",
        "finetuning_model = keras.Model(inputs, outputs)\n",
        "finetuning_model.compile(\n",
        "    loss=\"binary_crossentropy\",\n",
        "    optimizer=keras.optimizers.experimental.AdamW(FINETUNING_LEARNING_RATE),\n",
        "    metrics=[\"accuracy\"],\n",
        ")"
      ]
    },
    {
      "attachments": {},
      "cell_type": "markdown",
      "metadata": {},
      "source": [
        "## Fine-tuning for a downstream task"
      ]
    },
    {
      "cell_type": "code",
      "execution_count": 5,
      "metadata": {
        "colab": {
          "base_uri": "https://localhost:8080/",
          "height": 288
        },
        "id": "CgRrEH6s35pr",
        "outputId": "c4072d5d-a139-4f58-f50d-2a4fe64e066f"
      },
      "outputs": [
        {
          "name": "stdout",
          "output_type": "stream",
          "text": [
            "Epoch 1/3\n",
            "2105/2105 [==============================] - 111s 47ms/step - loss: 0.3992 - accuracy: 0.8142 - val_loss: 0.3934 - val_accuracy: 0.8222\n",
            "Epoch 2/3\n",
            "2105/2105 [==============================] - 71s 34ms/step - loss: 0.2556 - accuracy: 0.8942 - val_loss: 0.4044 - val_accuracy: 0.8349\n",
            "Epoch 3/3\n",
            "2105/2105 [==============================] - 71s 34ms/step - loss: 0.1933 - accuracy: 0.9237 - val_loss: 0.4345 - val_accuracy: 0.8383\n"
          ]
        },
        {
          "name": "stderr",
          "output_type": "stream",
          "text": [
            "WARNING:tensorflow:Compiled the loaded model, but the compiled metrics have yet to be built. `model.compile_metrics` will be empty until you train or evaluate the model.\n",
            "WARNING:absl:Found untraced functions such as token_embedding2_layer_call_fn, token_embedding2_layer_call_and_return_conditional_losses, position_embedding2_layer_call_fn, position_embedding2_layer_call_and_return_conditional_losses, multi_head_attention_layer_call_fn while saving (showing 5 of 82). These functions will not be directly callable after loading.\n"
          ]
        },
        {
          "name": "stdout",
          "output_type": "stream",
          "text": [
            "tf.Tensor(\n",
            "[[0.02888]\n",
            " [0.999  ]], shape=(2, 1), dtype=float16)\n"
          ]
        },
        {
          "data": {
            "application/vnd.google.colaboratory.intrinsic+json": {
              "type": "string"
            },
            "text/plain": [
              "'\\nOne of the key goals of KerasNLP is to provide a modular approach to NLP model building.\\nWe have shown one approach to building a Transformer here, but KerasNLP supports an ever\\ngrowing array of components for preprocessing text and building models. We hope it makes\\nit easier to experiment on solutions to your natural language problems.\\n'"
            ]
          },
          "execution_count": 5,
          "metadata": {},
          "output_type": "execute_result"
        }
      ],
      "source": [
        "# Finetune the model for the SST-2 task.\n",
        "finetuning_model.fit(\n",
        "    finetune_ds,\n",
        "    validation_data=finetune_val_ds,\n",
        "    epochs=FINETUNING_EPOCHS,\n",
        ")\n",
        "\n",
        "\"\"\"\n",
        "Pretraining was enough to boost our performance to 84%, and this is hardly the ceiling\n",
        "for Transformer models. You may have noticed during pretraining that our validation\n",
        "performance was still steadily increasing. Our model is still significantly undertrained.\n",
        "Training for more epochs, training a large Transformer, and training on more unlabeled\n",
        "text would all continue to boost performance significantly.\n",
        "\"\"\"\n",
        "\n",
        "\"\"\"\n",
        "### Save a model that accepts raw text\n",
        "\n",
        "The last thing we can do with our fine-tuned model is saveing including our tokenization\n",
        "layer. One of the key advantages of KerasNLP is all preprocessing is done inside the\n",
        "[TensorFlow graph](https://www.tensorflow.org/guide/intro_to_graphs), making it possible\n",
        "to save and restore a model that can directly run inference on raw text!\n",
        "\"\"\"\n",
        "\n",
        "# Add our tokenization into our final model.\n",
        "inputs = keras.Input(shape=(), dtype=tf.string)\n",
        "tokens = tokenizer(inputs)\n",
        "outputs = finetuning_model(tokens)\n",
        "final_model = keras.Model(inputs, outputs)\n",
        "final_model.save(\"final_model\")\n",
        "\n",
        "# This model can predict directly on raw text.\n",
        "restored_model = keras.models.load_model(\"final_model\", compile=False)\n",
        "inference_data = tf.constant([\"Terrible, no good, trash.\", \"So great; I loved it!\"])\n",
        "print(restored_model(inference_data))\n",
        "\n",
        "\"\"\"\n",
        "One of the key goals of KerasNLP is to provide a modular approach to NLP model building.\n",
        "We have shown one approach to building a Transformer here, but KerasNLP supports an ever\n",
        "growing array of components for preprocessing text and building models. We hope it makes\n",
        "it easier to experiment on solutions to your natural language problems.\n",
        "\"\"\""
      ]
    },
    {
      "attachments": {},
      "cell_type": "markdown",
      "metadata": {},
      "source": [
        "## Examples of model predictions"
      ]
    },
    {
      "cell_type": "code",
      "execution_count": 6,
      "metadata": {
        "colab": {
          "base_uri": "https://localhost:8080/"
        },
        "id": "3gTeMIR0QYgb",
        "outputId": "b8e62382-e711-403f-a1b6-4be5812c7ec2"
      },
      "outputs": [
        {
          "name": "stdout",
          "output_type": "stream",
          "text": [
            "tf.Tensor([[0.9194]], shape=(1, 1), dtype=float16)\n"
          ]
        }
      ],
      "source": [
        "print(restored_model(tf.constant([\"ISUW 2023 conference is going great\"])))"
      ]
    },
    {
      "cell_type": "code",
      "execution_count": 9,
      "metadata": {
        "colab": {
          "base_uri": "https://localhost:8080/"
        },
        "id": "YWsOXYQqQnjC",
        "outputId": "48586138-a83f-4c84-b875-f29e4d75ce1c"
      },
      "outputs": [
        {
          "name": "stdout",
          "output_type": "stream",
          "text": [
            "tf.Tensor([[0.5776]], shape=(1, 1), dtype=float16)\n"
          ]
        }
      ],
      "source": [
        "print(restored_model(tf.constant([\"The food was not great at all!\"])))"
      ]
    },
    {
      "cell_type": "code",
      "execution_count": 10,
      "metadata": {
        "colab": {
          "base_uri": "https://localhost:8080/"
        },
        "id": "yd0sa0V1QxXl",
        "outputId": "f63afe8a-f389-4b10-8f81-3e3daaaabb40"
      },
      "outputs": [
        {
          "name": "stdout",
          "output_type": "stream",
          "text": [
            "tf.Tensor([[0.709]], shape=(1, 1), dtype=float16)\n"
          ]
        }
      ],
      "source": [
        "print(restored_model(tf.constant([\"The food wasn't great at all!\"])))"
      ]
    },
    {
      "cell_type": "code",
      "execution_count": 11,
      "metadata": {
        "colab": {
          "base_uri": "https://localhost:8080/"
        },
        "id": "CBbKCsTQQ1cw",
        "outputId": "3303f263-b890-4426-dd10-2b7df0be10ab"
      },
      "outputs": [
        {
          "name": "stdout",
          "output_type": "stream",
          "text": [
            "tf.Tensor([[0.0629]], shape=(1, 1), dtype=float16)\n"
          ]
        }
      ],
      "source": [
        "print(restored_model(tf.constant([\"The food was terrible!\"])))"
      ]
    }
  ],
  "metadata": {
    "accelerator": "GPU",
    "colab": {
      "provenance": []
    },
    "gpuClass": "standard",
    "kernelspec": {
      "display_name": "ai",
      "language": "python",
      "name": "python3"
    },
    "language_info": {
      "name": "python",
      "version": "3.9.12"
    },
    "vscode": {
      "interpreter": {
        "hash": "a4db8d89388d2d813bdcde728ee03c112b1e372fffd94bf53858b6f7f9575528"
      }
    }
  },
  "nbformat": 4,
  "nbformat_minor": 0
}
